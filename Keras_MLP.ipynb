{
  "nbformat": 4,
  "nbformat_minor": 0,
  "metadata": {
    "colab": {
      "provenance": [],
      "collapsed_sections": []
    },
    "kernelspec": {
      "name": "python3",
      "display_name": "Python 3"
    },
    "language_info": {
      "name": "python"
    }
  },
  "cells": [
    {
      "cell_type": "markdown",
      "metadata": {
        "id": "prBtQ00XE6Ks"
      },
      "source": [
        "Keras: sequential API, Functional API, Subclassing ApI\n",
        "\n",
        "1.   sequential API: 입력층, 은닉층, 출력층이 일렬로 딥러닝의 모형이 설계될 때 사용\n",
        "2.   Functional API: 은닉층, 출력층의 입력 데이터를 마치 함수처럼 사용하여 다중 입력, 다중 출력, 임의의 입력층, 은닉층, 출력층을 순서에 관계없이 연결하여 사용 -> 다양하고 유연한 딥러닝 모형 설계시 사용\n",
        "3. Subclassing ApI: 회로형, 조건부 딥러닝 모형 등의 맞춤형 딥러닝 모형 설계 시 사용\n",
        "\n",
        "\n",
        "\n"
      ]
    },
    {
      "cell_type": "code",
      "metadata": {
        "colab": {
          "base_uri": "https://localhost:8080/"
        },
        "id": "XwgKod_7hQpl",
        "outputId": "1372a398-f3e5-4bfb-f5d1-512d22300913"
      },
      "source": [
        "import tensorflow as tf  #tensorflow를 tf로 축약하여 사용\n",
        "a=tf.constant([[1,2,3],[4,5,6]])   #tensor 생성 \n",
        "#tf.constant에서 생성된 자료는 slicing, 연산은 가능하지만 자료값은 수정할 수 없음\n",
        "print(a)\n",
        "print(a.shape)   #크기와 데이터 형태를 확인\n",
        "print(a.dtype)"
      ],
      "execution_count": null,
      "outputs": [
        {
          "output_type": "stream",
          "name": "stdout",
          "text": [
            "tf.Tensor(\n",
            "[[1 2 3]\n",
            " [4 5 6]], shape=(2, 3), dtype=int32)\n",
            "(2, 3)\n",
            "<dtype: 'int32'>\n"
          ]
        }
      ]
    },
    {
      "cell_type": "code",
      "metadata": {
        "colab": {
          "base_uri": "https://localhost:8080/"
        },
        "id": "8PBbroOClJqx",
        "outputId": "5c29a271-d1a2-4d73-cb56-4c96952da6bd"
      },
      "source": [
        "a[:,:2]  "
      ],
      "execution_count": null,
      "outputs": [
        {
          "output_type": "execute_result",
          "data": {
            "text/plain": [
              "<tf.Tensor: shape=(2, 2), dtype=int32, numpy=\n",
              "array([[1, 2],\n",
              "       [4, 5]], dtype=int32)>"
            ]
          },
          "metadata": {},
          "execution_count": 3
        }
      ]
    },
    {
      "cell_type": "code",
      "metadata": {
        "colab": {
          "base_uri": "https://localhost:8080/"
        },
        "id": "Kw4MQAH1lO82",
        "outputId": "c5e648d0-608d-49bc-f6c7-27c4c6bac447"
      },
      "source": [
        "a_1=a[...,1]\n",
        "a_2=a[...,1,tf.newaxis]\n",
        "print(a_1)\n",
        "print(a_2)"
      ],
      "execution_count": null,
      "outputs": [
        {
          "output_type": "stream",
          "name": "stdout",
          "text": [
            "tf.Tensor([2 5], shape=(2,), dtype=int32)\n",
            "tf.Tensor(\n",
            "[[2]\n",
            " [5]], shape=(2, 1), dtype=int32)\n"
          ]
        }
      ]
    },
    {
      "cell_type": "code",
      "metadata": {
        "colab": {
          "base_uri": "https://localhost:8080/"
        },
        "id": "OJUG6tlylcgY",
        "outputId": "e5b866b5-eade-411c-f865-cb43fd60be27"
      },
      "source": [
        "b_0=a+100\n",
        "b_1=tf.square(a)\n",
        "print(b_0)\n",
        "print(b_1)"
      ],
      "execution_count": null,
      "outputs": [
        {
          "output_type": "stream",
          "name": "stdout",
          "text": [
            "tf.Tensor(\n",
            "[[101 102 103]\n",
            " [104 105 106]], shape=(2, 3), dtype=int32)\n",
            "tf.Tensor(\n",
            "[[ 1  4  9]\n",
            " [16 25 36]], shape=(2, 3), dtype=int32)\n"
          ]
        }
      ]
    },
    {
      "cell_type": "code",
      "metadata": {
        "colab": {
          "base_uri": "https://localhost:8080/"
        },
        "id": "oKrNcVx8mN60",
        "outputId": "0ce9fb84-dece-42ed-e825-67808ba6204a"
      },
      "source": [
        "a.numpy()  #tensor에서 numpy 배열로 변환"
      ],
      "execution_count": null,
      "outputs": [
        {
          "output_type": "execute_result",
          "data": {
            "text/plain": [
              "array([[1, 2, 3],\n",
              "       [4, 5, 6]], dtype=int32)"
            ]
          },
          "metadata": {},
          "execution_count": 6
        }
      ]
    },
    {
      "cell_type": "code",
      "metadata": {
        "id": "0LIN6BMQmSc5"
      },
      "source": [
        "import numpy as np\n",
        "c=np.array([[1,2],[3,4],[5,6]])\n",
        "d_1=tf.transpose(c)\n",
        "d_2=c.T"
      ],
      "execution_count": null,
      "outputs": []
    },
    {
      "cell_type": "code",
      "metadata": {
        "colab": {
          "base_uri": "https://localhost:8080/"
        },
        "id": "JOQT4zTvmTcG",
        "outputId": "c83bb011-d1c1-4978-91fd-801e1216dcc4"
      },
      "source": [
        "print(c)\n",
        "print(d_1)\n",
        "print(d_2)"
      ],
      "execution_count": null,
      "outputs": [
        {
          "output_type": "stream",
          "name": "stdout",
          "text": [
            "[[1 2]\n",
            " [3 4]\n",
            " [5 6]]\n",
            "tf.Tensor(\n",
            "[[1 3 5]\n",
            " [2 4 6]], shape=(2, 3), dtype=int64)\n",
            "[[1 3 5]\n",
            " [2 4 6]]\n"
          ]
        }
      ]
    },
    {
      "cell_type": "code",
      "metadata": {
        "colab": {
          "base_uri": "https://localhost:8080/"
        },
        "id": "YvskuO2xmTeV",
        "outputId": "15340979-4756-4483-f4fa-58be6356e32d"
      },
      "source": [
        "t1=1\n",
        "t2=100.\n",
        "tf.cast(t1,tf.float32)+t2  \n",
        "#tensorflow: 자료형이 일치해야 연산이 가능 -> tf.cast로 자료형을 통일하는 것 필요"
      ],
      "execution_count": null,
      "outputs": [
        {
          "output_type": "execute_result",
          "data": {
            "text/plain": [
              "<tf.Tensor: shape=(), dtype=float32, numpy=101.0>"
            ]
          },
          "metadata": {},
          "execution_count": 9
        }
      ]
    },
    {
      "cell_type": "code",
      "metadata": {
        "colab": {
          "base_uri": "https://localhost:8080/"
        },
        "id": "sfA_Iv34mTg-",
        "outputId": "c7b6bf58-b871-4aa4-c868-47d0657541ae"
      },
      "source": [
        "k=tf.Variable([[1.,2,3],[4,5,6]])  #tf.variable은 수정 가능한 텐서를 생성\n",
        "print(k)"
      ],
      "execution_count": null,
      "outputs": [
        {
          "output_type": "stream",
          "name": "stdout",
          "text": [
            "<tf.Variable 'Variable:0' shape=(2, 3) dtype=float32, numpy=\n",
            "array([[1., 2., 3.],\n",
            "       [4., 5., 6.]], dtype=float32)>\n"
          ]
        }
      ]
    },
    {
      "cell_type": "code",
      "metadata": {
        "colab": {
          "base_uri": "https://localhost:8080/"
        },
        "id": "OA8aLEXfmTjV",
        "outputId": "dede8550-760d-4235-c2b4-4d06aa972073"
      },
      "source": [
        "tf.constant([[1,2,3],[4,5,6]])"
      ],
      "execution_count": null,
      "outputs": [
        {
          "output_type": "execute_result",
          "data": {
            "text/plain": [
              "<tf.Tensor: shape=(2, 3), dtype=int32, numpy=\n",
              "array([[1, 2, 3],\n",
              "       [4, 5, 6]], dtype=int32)>"
            ]
          },
          "metadata": {},
          "execution_count": 11
        }
      ]
    },
    {
      "cell_type": "code",
      "metadata": {
        "colab": {
          "base_uri": "https://localhost:8080/"
        },
        "id": "lxMT_sn3mTld",
        "outputId": "0bcbb282-e4d7-44bc-892c-d0ff480a81f9"
      },
      "source": [
        "k.assign(k**2)  #assign 함수로 값을 변경할 수 있음"
      ],
      "execution_count": null,
      "outputs": [
        {
          "output_type": "execute_result",
          "data": {
            "text/plain": [
              "<tf.Variable 'UnreadVariable' shape=(2, 3) dtype=float32, numpy=\n",
              "array([[ 1.,  4.,  9.],\n",
              "       [16., 25., 36.]], dtype=float32)>"
            ]
          },
          "metadata": {},
          "execution_count": 12
        }
      ]
    },
    {
      "cell_type": "code",
      "metadata": {
        "colab": {
          "base_uri": "https://localhost:8080/"
        },
        "id": "yZtFoNdamToC",
        "outputId": "25912c16-798d-4b1c-81d9-4ce1997c859d"
      },
      "source": [
        "k[0,1].assign(100)  #assign 함수로 값을 변경"
      ],
      "execution_count": null,
      "outputs": [
        {
          "output_type": "execute_result",
          "data": {
            "text/plain": [
              "<tf.Variable 'UnreadVariable' shape=(2, 3) dtype=float32, numpy=\n",
              "array([[  1., 100.,   9.],\n",
              "       [ 16.,  25.,  36.]], dtype=float32)>"
            ]
          },
          "metadata": {},
          "execution_count": 13
        }
      ]
    },
    {
      "cell_type": "code",
      "metadata": {
        "colab": {
          "base_uri": "https://localhost:8080/"
        },
        "id": "g56P-ksxmTs9",
        "outputId": "da7e0d56-e475-438f-b091-eec1cb7c072d"
      },
      "source": [
        "k[:,2].assign([0,0]) #assign 함수로 값을 변경"
      ],
      "execution_count": null,
      "outputs": [
        {
          "output_type": "execute_result",
          "data": {
            "text/plain": [
              "<tf.Variable 'UnreadVariable' shape=(2, 3) dtype=float32, numpy=\n",
              "array([[  1., 100.,   0.],\n",
              "       [ 16.,  25.,   0.]], dtype=float32)>"
            ]
          },
          "metadata": {},
          "execution_count": 14
        }
      ]
    },
    {
      "cell_type": "code",
      "metadata": {
        "colab": {
          "base_uri": "https://localhost:8080/"
        },
        "id": "Bss30OzNDpgI",
        "outputId": "6801cbe4-1721-4b5f-d2f2-974c59366334"
      },
      "source": [
        "k.scatter_nd_update(indices=[[0,0],[1,0]],updates=[999,999]) \n",
        "#assign 함수는 tensor의 구성요소를 동시에 지정할 수 없다. -> 이 경우, scatter_nd_update를 사용"
      ],
      "execution_count": null,
      "outputs": [
        {
          "output_type": "execute_result",
          "data": {
            "text/plain": [
              "<tf.Variable 'UnreadVariable' shape=(2, 3) dtype=float32, numpy=\n",
              "array([[999., 100.,   0.],\n",
              "       [999.,  25.,   0.]], dtype=float32)>"
            ]
          },
          "metadata": {},
          "execution_count": 16
        }
      ]
    },
    {
      "cell_type": "markdown",
      "metadata": {
        "id": "aObCYIwMF_dE"
      },
      "source": [
        "# Sequnntial API / MLP"
      ]
    },
    {
      "cell_type": "code",
      "metadata": {
        "colab": {
          "base_uri": "https://localhost:8080/"
        },
        "id": "NxCXMh89GJ5E",
        "outputId": "757474b2-0a04-43bc-ebaf-1a4ce2475544"
      },
      "source": [
        "import numpy as np\n",
        "import tensorflow as tf\n",
        "from tensorflow import keras\n",
        "from tensorflow.keras.datasets import mnist\n",
        "import matplotlib.pyplot as plt\n",
        "\n",
        "#data 불러오기\n",
        "(x_train, y_train),(x_test, y_test)=mnist.load_data()\n",
        "print(x_train.shape)   #3D-tensor\n",
        "print(x_test.shape)    #3D-tensor\n",
        "print(y_train.shape)   #1D-tensor"
      ],
      "execution_count": null,
      "outputs": [
        {
          "output_type": "stream",
          "name": "stdout",
          "text": [
            "Downloading data from https://storage.googleapis.com/tensorflow/tf-keras-datasets/mnist.npz\n",
            "11493376/11490434 [==============================] - 0s 0us/step\n",
            "11501568/11490434 [==============================] - 0s 0us/step\n",
            "(60000, 28, 28)\n",
            "(10000, 28, 28)\n",
            "(60000,)\n"
          ]
        }
      ]
    },
    {
      "cell_type": "code",
      "metadata": {
        "id": "-Bm1Se0Do0YJ"
      },
      "source": [],
      "execution_count": null,
      "outputs": []
    },
    {
      "cell_type": "code",
      "metadata": {
        "colab": {
          "base_uri": "https://localhost:8080/"
        },
        "id": "8zKM_VfwHA4e",
        "outputId": "a2906c52-b1e4-4fe8-83fd-92f2cc0b6c35"
      },
      "source": [
        "unique,counts=np.unique(y_train,return_counts=True)   #값들의 분포를를 알 수 있고 균형감있는 분포를 볼 수 있다.\n",
        "print('Train labels: ', dict(zip(unique, counts)))    #dictionary data type을 출력\n",
        "unique,counts=np.unique(y_test,return_counts=True)   \n",
        "print('Test labels: ', dict(zip(unique, counts))) "
      ],
      "execution_count": null,
      "outputs": [
        {
          "output_type": "stream",
          "name": "stdout",
          "text": [
            "Train labels:  {0: 5923, 1: 6742, 2: 5958, 3: 6131, 4: 5842, 5: 5421, 6: 5918, 7: 6265, 8: 5851, 9: 5949}\n",
            "Test labels:  {0: 980, 1: 1135, 2: 1032, 3: 1010, 4: 982, 5: 892, 6: 958, 7: 1028, 8: 974, 9: 1009}\n"
          ]
        }
      ]
    },
    {
      "cell_type": "code",
      "metadata": {
        "colab": {
          "base_uri": "https://localhost:8080/",
          "height": 160
        },
        "id": "1AmvOyC0Hkmn",
        "outputId": "f7142a65-5c33-471d-cf14-710bd3451d81"
      },
      "source": [
        "#4개의 random sample 추출하기\n",
        "indices=np.random.randint(0,x_train.shape[0],size=4)\n",
        "images=x_train[indices]\n",
        "labels=y_train[indices]\n",
        "\n",
        "#4개의 표본 그림그리기\n",
        "plt.figure(figsize=(2,2))\n",
        "for i in range(len(indices)):\n",
        "  plt.subplot(2,2,i+1)\n",
        "  image=images[i]\n",
        "  plt.imshow(image, cmap='gray')\n",
        "  plt.grid('off')\n",
        "plt.show()"
      ],
      "execution_count": null,
      "outputs": [
        {
          "output_type": "display_data",
          "data": {
            "image/png": "[encoded data removed]",
            "text/plain": [
              "<Figure size 144x144 with 4 Axes>"
            ]
          },
          "metadata": {
            "needs_background": "light"
          }
        }
      ]
    },
    {
      "cell_type": "code",
      "metadata": {
        "colab": {
          "base_uri": "https://localhost:8080/"
        },
        "id": "oto9oq3xIfOf",
        "outputId": "534d0363-0263-46e7-9608-58f9bee28558"
      },
      "source": [
        "#One Hot Coding : library 불러오기\n",
        "from tensorflow.keras.utils import to_categorical,plot_model\n",
        "num_features=784  #MLP 모형 적합을 위해 이미지를 1D tensor 형태로 변환\n",
        "x_train=x_train.reshape(-1,num_features).astype('float32')\n",
        "x_test=x_test.reshape(-1,num_features).astype('float32')\n",
        "\n",
        "#reshape 안에 '-1'을 해줌으로써 해당 axis의 값을 스스로 계산하게 함.\n",
        "\n",
        "x_train=x_train/255.\n",
        "x_test=x_test/255.\n",
        "\n",
        "#10개의 범주형 자료를 one-hot 벡터로 바꿔주기/ 0-9를 one-hot 벡터로 바꿔주기 -> 아래의 utility 함수를 이용\n",
        "from keras.utils import np_utils\n",
        "y_train=np_utils.to_categorical(y_train)\n",
        "y_test=np_utils.to_categorical(y_test)\n",
        "num_classes=y_train.shape[1]\n",
        "print(y_train.shape)"
      ],
      "execution_count": null,
      "outputs": [
        {
          "output_type": "stream",
          "name": "stdout",
          "text": [
            "(60000, 10)\n"
          ]
        }
      ]
    },
    {
      "cell_type": "code",
      "metadata": {
        "colab": {
          "base_uri": "https://localhost:8080/"
        },
        "id": "g_F4xd7KmX0B",
        "outputId": "bc72a0f8-e0db-4b7e-a38f-cf59de5c0a28"
      },
      "source": [
        "x_val=x_train[:10000]\n",
        "partial_x_train=x_train[10000:]\n",
        "y_val=y_train[:10000]\n",
        "partial_y_train=y_train[10000:]\n",
        "print(\"partial_x_train\",partial_x_train.shape)\n",
        "print(\"partial_y_train\",partial_y_train.shape)"
      ],
      "execution_count": null,
      "outputs": [
        {
          "output_type": "stream",
          "name": "stdout",
          "text": [
            "partial_x_train (50000, 784)\n",
            "partial_y_train (50000, 10)\n"
          ]
        }
      ]
    },
    {
      "cell_type": "code",
      "metadata": {
        "colab": {
          "base_uri": "https://localhost:8080/",
          "height": 958
        },
        "id": "qURT9dxVKm3Q",
        "outputId": "9bcbd55c-c01a-4e01-dfc1-f059b3e98b13"
      },
      "source": [
        "from tensorflow.keras.models import Sequential\n",
        "from tensorflow.keras.layers import Dense, Activation, Dropout\n",
        "\n",
        "# MLP 모형 사용: 2개의 은닉층, 1개의 출력층으로 구성된 모형 -> dense 사용\n",
        "model=Sequential() \n",
        "model.add(Dense(256,input_dim=num_features)) #input: 1D tensor / num_feature=28*28=784 / 256개 node / parm=784*256+256(bias)=200960\n",
        "model.add(Activation('relu')) #relu: 모수가 없음\n",
        "model.add(Dropout(0.45))\n",
        "\n",
        "model.add(Dense(256,activation='relu'))\n",
        "model.add(Dense(num_classes,activation='softmax'))  #출력층: parm=256*10+10=5270\n",
        "\n",
        "model.summary()\n",
        "plot_model(model, to_file='D:\\BDSC402\\MLPmodel.png',show_shapes=True)"
      ],
      "execution_count": null,
      "outputs": [
        {
          "output_type": "stream",
          "name": "stdout",
          "text": [
            "Model: \"sequential\"\n",
            "_________________________________________________________________\n",
            "Layer (type)                 Output Shape              Param #   \n",
            "=================================================================\n",
            "dense (Dense)                (None, 256)               200960    \n",
            "_________________________________________________________________\n",
            "activation (Activation)      (None, 256)               0         \n",
            "_________________________________________________________________\n",
            "dropout (Dropout)            (None, 256)               0         \n",
            "_________________________________________________________________\n",
            "dense_1 (Dense)              (None, 256)               65792     \n",
            "_________________________________________________________________\n",
            "dense_2 (Dense)              (None, 10)                2570      \n",
            "=================================================================\n",
            "Total params: 269,322\n",
            "Trainable params: 269,322\n",
            "Non-trainable params: 0\n",
            "_________________________________________________________________\n"
          ]
        },
        {
          "output_type": "execute_result",
          "data": {
            "image/png": "[encoded data removed]",
            "text/plain": [
              "<IPython.core.display.Image object>"
            ]
          },
          "metadata": {},
          "execution_count": 7
        }
      ]
    },
    {
      "cell_type": "code",
      "metadata": {
        "colab": {
          "base_uri": "https://localhost:8080/"
        },
        "id": "KbxMBIAfoTYz",
        "outputId": "7699734f-125b-40eb-ceab-c29b28dec382"
      },
      "source": [
        "model.compile(loss='categorical_crossentropy',optimizer='adam', metrics=['accuracy'])\n",
        "history=model.fit(partial_x_train, partial_y_train, epochs=100, batch_size=64, validation_data=(x_val,y_val)) \n",
        "#epochs=100 : 50000개의 데이터를 100번 학습시킨다는 의미\n",
        "#batch_size: 주로 2의 배수를 사용(1을 사용할 시, SDG) : 5000/64=781.25  이므로 각  epoches 별로 64개의 배치를 782회 학습\n",
        "history_out=history.history\n",
        "history_out.keys()"
      ],
      "execution_count": null,
      "outputs": [
        {
          "output_type": "stream",
          "name": "stdout",
          "text": [
            "Epoch 1/100\n",
            "782/782 [==============================] - 4s 5ms/step - loss: 0.3334 - accuracy: 0.8980 - val_loss: 0.1384 - val_accuracy: 0.9558\n",
            "Epoch 2/100\n",
            "782/782 [==============================] - 4s 5ms/step - loss: 0.1648 - accuracy: 0.9498 - val_loss: 0.1109 - val_accuracy: 0.9652\n",
            "Epoch 3/100\n",
            "782/782 [==============================] - 4s 5ms/step - loss: 0.1334 - accuracy: 0.9588 - val_loss: 0.0956 - val_accuracy: 0.9697\n",
            "Epoch 4/100\n",
            "782/782 [==============================] - 4s 5ms/step - loss: 0.1116 - accuracy: 0.9646 - val_loss: 0.0888 - val_accuracy: 0.9736\n",
            "Epoch 5/100\n",
            "782/782 [==============================] - 4s 5ms/step - loss: 0.0995 - accuracy: 0.9682 - val_loss: 0.0799 - val_accuracy: 0.9756\n",
            "Epoch 6/100\n",
            "782/782 [==============================] - 4s 5ms/step - loss: 0.0907 - accuracy: 0.9710 - val_loss: 0.0802 - val_accuracy: 0.9764\n",
            "Epoch 7/100\n",
            "782/782 [==============================] - 4s 5ms/step - loss: 0.0831 - accuracy: 0.9727 - val_loss: 0.0756 - val_accuracy: 0.9778\n",
            "Epoch 8/100\n",
            "782/782 [==============================] - 4s 5ms/step - loss: 0.0743 - accuracy: 0.9758 - val_loss: 0.0832 - val_accuracy: 0.9764\n",
            "Epoch 9/100\n",
            "782/782 [==============================] - 4s 5ms/step - loss: 0.0710 - accuracy: 0.9765 - val_loss: 0.0816 - val_accuracy: 0.9780\n",
            "Epoch 10/100\n",
            "782/782 [==============================] - 4s 5ms/step - loss: 0.0655 - accuracy: 0.9789 - val_loss: 0.0770 - val_accuracy: 0.9791\n",
            "Epoch 11/100\n",
            "782/782 [==============================] - 4s 5ms/step - loss: 0.0637 - accuracy: 0.9793 - val_loss: 0.0734 - val_accuracy: 0.9791\n",
            "Epoch 12/100\n",
            "782/782 [==============================] - 4s 5ms/step - loss: 0.0609 - accuracy: 0.9802 - val_loss: 0.0666 - val_accuracy: 0.9811\n",
            "Epoch 13/100\n",
            "782/782 [==============================] - 4s 5ms/step - loss: 0.0587 - accuracy: 0.9811 - val_loss: 0.0709 - val_accuracy: 0.9812\n",
            "Epoch 14/100\n",
            "782/782 [==============================] - 4s 5ms/step - loss: 0.0561 - accuracy: 0.9816 - val_loss: 0.0746 - val_accuracy: 0.9803\n",
            "Epoch 15/100\n",
            "782/782 [==============================] - 4s 5ms/step - loss: 0.0521 - accuracy: 0.9825 - val_loss: 0.0753 - val_accuracy: 0.9788\n",
            "Epoch 16/100\n",
            "782/782 [==============================] - 4s 5ms/step - loss: 0.0482 - accuracy: 0.9836 - val_loss: 0.0683 - val_accuracy: 0.9805\n",
            "Epoch 17/100\n",
            "782/782 [==============================] - 4s 5ms/step - loss: 0.0495 - accuracy: 0.9833 - val_loss: 0.0720 - val_accuracy: 0.9814\n",
            "Epoch 18/100\n",
            "782/782 [==============================] - 4s 5ms/step - loss: 0.0445 - accuracy: 0.9848 - val_loss: 0.0757 - val_accuracy: 0.9814\n",
            "Epoch 19/100\n",
            "782/782 [==============================] - 4s 5ms/step - loss: 0.0458 - accuracy: 0.9849 - val_loss: 0.0721 - val_accuracy: 0.9819\n",
            "Epoch 20/100\n",
            "782/782 [==============================] - 4s 5ms/step - loss: 0.0436 - accuracy: 0.9859 - val_loss: 0.0732 - val_accuracy: 0.9811\n",
            "Epoch 21/100\n",
            "782/782 [==============================] - 4s 5ms/step - loss: 0.0441 - accuracy: 0.9857 - val_loss: 0.0787 - val_accuracy: 0.9806\n",
            "Epoch 22/100\n",
            "782/782 [==============================] - 4s 5ms/step - loss: 0.0448 - accuracy: 0.9855 - val_loss: 0.0700 - val_accuracy: 0.9824\n",
            "Epoch 23/100\n",
            "782/782 [==============================] - 4s 5ms/step - loss: 0.0413 - accuracy: 0.9868 - val_loss: 0.0736 - val_accuracy: 0.9818\n",
            "Epoch 24/100\n",
            "782/782 [==============================] - 4s 5ms/step - loss: 0.0416 - accuracy: 0.9860 - val_loss: 0.0815 - val_accuracy: 0.9802\n",
            "Epoch 25/100\n",
            "782/782 [==============================] - 4s 4ms/step - loss: 0.0419 - accuracy: 0.9860 - val_loss: 0.0765 - val_accuracy: 0.9820\n",
            "Epoch 26/100\n",
            "782/782 [==============================] - 4s 5ms/step - loss: 0.0370 - accuracy: 0.9876 - val_loss: 0.0762 - val_accuracy: 0.9808\n",
            "Epoch 27/100\n",
            "782/782 [==============================] - 4s 5ms/step - loss: 0.0367 - accuracy: 0.9882 - val_loss: 0.0776 - val_accuracy: 0.9820\n",
            "Epoch 28/100\n",
            "782/782 [==============================] - 4s 5ms/step - loss: 0.0365 - accuracy: 0.9882 - val_loss: 0.0867 - val_accuracy: 0.9810\n",
            "Epoch 29/100\n",
            "782/782 [==============================] - 4s 5ms/step - loss: 0.0357 - accuracy: 0.9886 - val_loss: 0.0751 - val_accuracy: 0.9826\n",
            "Epoch 30/100\n",
            "782/782 [==============================] - 4s 5ms/step - loss: 0.0351 - accuracy: 0.9883 - val_loss: 0.0744 - val_accuracy: 0.9823\n",
            "Epoch 31/100\n",
            "782/782 [==============================] - 4s 5ms/step - loss: 0.0349 - accuracy: 0.9891 - val_loss: 0.0773 - val_accuracy: 0.9823\n",
            "Epoch 32/100\n",
            "782/782 [==============================] - 4s 5ms/step - loss: 0.0320 - accuracy: 0.9893 - val_loss: 0.0785 - val_accuracy: 0.9831\n",
            "Epoch 33/100\n",
            "782/782 [==============================] - 3s 4ms/step - loss: 0.0315 - accuracy: 0.9894 - val_loss: 0.0729 - val_accuracy: 0.9844\n",
            "Epoch 34/100\n",
            "782/782 [==============================] - 3s 4ms/step - loss: 0.0355 - accuracy: 0.9883 - val_loss: 0.0691 - val_accuracy: 0.9848\n",
            "Epoch 35/100\n",
            "782/782 [==============================] - 4s 5ms/step - loss: 0.0338 - accuracy: 0.9891 - val_loss: 0.0677 - val_accuracy: 0.9834\n",
            "Epoch 36/100\n",
            "782/782 [==============================] - 3s 4ms/step - loss: 0.0305 - accuracy: 0.9898 - val_loss: 0.0796 - val_accuracy: 0.9818\n",
            "Epoch 37/100\n",
            "782/782 [==============================] - 3s 4ms/step - loss: 0.0309 - accuracy: 0.9901 - val_loss: 0.0783 - val_accuracy: 0.9850\n",
            "Epoch 38/100\n",
            "782/782 [==============================] - 4s 5ms/step - loss: 0.0301 - accuracy: 0.9902 - val_loss: 0.0837 - val_accuracy: 0.9816\n",
            "Epoch 39/100\n",
            "782/782 [==============================] - 4s 4ms/step - loss: 0.0305 - accuracy: 0.9900 - val_loss: 0.0792 - val_accuracy: 0.9821\n",
            "Epoch 40/100\n",
            "782/782 [==============================] - 3s 4ms/step - loss: 0.0291 - accuracy: 0.9906 - val_loss: 0.0818 - val_accuracy: 0.9824\n",
            "Epoch 41/100\n",
            "782/782 [==============================] - 4s 5ms/step - loss: 0.0302 - accuracy: 0.9906 - val_loss: 0.0779 - val_accuracy: 0.9835\n",
            "Epoch 42/100\n",
            "782/782 [==============================] - 4s 5ms/step - loss: 0.0294 - accuracy: 0.9902 - val_loss: 0.0746 - val_accuracy: 0.9832\n",
            "Epoch 43/100\n",
            "782/782 [==============================] - 4s 5ms/step - loss: 0.0275 - accuracy: 0.9911 - val_loss: 0.0751 - val_accuracy: 0.9841\n",
            "Epoch 44/100\n",
            "782/782 [==============================] - 4s 5ms/step - loss: 0.0294 - accuracy: 0.9904 - val_loss: 0.0899 - val_accuracy: 0.9803\n",
            "Epoch 45/100\n",
            "782/782 [==============================] - 4s 5ms/step - loss: 0.0288 - accuracy: 0.9906 - val_loss: 0.0786 - val_accuracy: 0.9843\n",
            "Epoch 46/100\n",
            "782/782 [==============================] - 4s 4ms/step - loss: 0.0269 - accuracy: 0.9910 - val_loss: 0.0893 - val_accuracy: 0.9818\n",
            "Epoch 47/100\n",
            "782/782 [==============================] - 4s 5ms/step - loss: 0.0287 - accuracy: 0.9906 - val_loss: 0.0790 - val_accuracy: 0.9846\n",
            "Epoch 48/100\n",
            "782/782 [==============================] - 4s 4ms/step - loss: 0.0279 - accuracy: 0.9914 - val_loss: 0.0843 - val_accuracy: 0.9815\n",
            "Epoch 49/100\n",
            "782/782 [==============================] - 4s 5ms/step - loss: 0.0294 - accuracy: 0.9907 - val_loss: 0.0892 - val_accuracy: 0.9820\n",
            "Epoch 50/100\n",
            "782/782 [==============================] - 4s 5ms/step - loss: 0.0285 - accuracy: 0.9903 - val_loss: 0.0784 - val_accuracy: 0.9836\n",
            "Epoch 51/100\n",
            "782/782 [==============================] - 4s 5ms/step - loss: 0.0246 - accuracy: 0.9916 - val_loss: 0.0795 - val_accuracy: 0.9835\n",
            "Epoch 52/100\n",
            "782/782 [==============================] - 4s 5ms/step - loss: 0.0263 - accuracy: 0.9913 - val_loss: 0.0832 - val_accuracy: 0.9821\n",
            "Epoch 53/100\n",
            "782/782 [==============================] - 4s 5ms/step - loss: 0.0300 - accuracy: 0.9906 - val_loss: 0.0896 - val_accuracy: 0.9811\n",
            "Epoch 54/100\n",
            "782/782 [==============================] - 4s 5ms/step - loss: 0.0237 - accuracy: 0.9922 - val_loss: 0.0886 - val_accuracy: 0.9828\n",
            "Epoch 55/100\n",
            "782/782 [==============================] - 4s 4ms/step - loss: 0.0266 - accuracy: 0.9913 - val_loss: 0.0838 - val_accuracy: 0.9830\n",
            "Epoch 56/100\n",
            "782/782 [==============================] - 4s 5ms/step - loss: 0.0254 - accuracy: 0.9922 - val_loss: 0.0894 - val_accuracy: 0.9812\n",
            "Epoch 57/100\n",
            "782/782 [==============================] - 4s 5ms/step - loss: 0.0234 - accuracy: 0.9925 - val_loss: 0.0919 - val_accuracy: 0.9808\n",
            "Epoch 58/100\n",
            "782/782 [==============================] - 3s 4ms/step - loss: 0.0252 - accuracy: 0.9921 - val_loss: 0.0875 - val_accuracy: 0.9832\n",
            "Epoch 59/100\n",
            "782/782 [==============================] - 4s 4ms/step - loss: 0.0262 - accuracy: 0.9915 - val_loss: 0.0865 - val_accuracy: 0.9828\n",
            "Epoch 60/100\n",
            "782/782 [==============================] - 4s 5ms/step - loss: 0.0236 - accuracy: 0.9928 - val_loss: 0.0875 - val_accuracy: 0.9829\n",
            "Epoch 61/100\n",
            "782/782 [==============================] - 4s 5ms/step - loss: 0.0287 - accuracy: 0.9909 - val_loss: 0.0774 - val_accuracy: 0.9851\n",
            "Epoch 62/100\n",
            "782/782 [==============================] - 4s 5ms/step - loss: 0.0246 - accuracy: 0.9923 - val_loss: 0.0959 - val_accuracy: 0.9817\n",
            "Epoch 63/100\n",
            "782/782 [==============================] - 4s 5ms/step - loss: 0.0246 - accuracy: 0.9920 - val_loss: 0.0869 - val_accuracy: 0.9826\n",
            "Epoch 64/100\n",
            "782/782 [==============================] - 4s 5ms/step - loss: 0.0259 - accuracy: 0.9924 - val_loss: 0.0872 - val_accuracy: 0.9845\n",
            "Epoch 65/100\n",
            "782/782 [==============================] - 4s 5ms/step - loss: 0.0242 - accuracy: 0.9923 - val_loss: 0.0780 - val_accuracy: 0.9845\n",
            "Epoch 66/100\n",
            "782/782 [==============================] - 4s 5ms/step - loss: 0.0219 - accuracy: 0.9935 - val_loss: 0.0805 - val_accuracy: 0.9850\n",
            "Epoch 67/100\n",
            "782/782 [==============================] - 4s 5ms/step - loss: 0.0223 - accuracy: 0.9927 - val_loss: 0.0761 - val_accuracy: 0.9854\n",
            "Epoch 68/100\n",
            "782/782 [==============================] - 4s 5ms/step - loss: 0.0236 - accuracy: 0.9925 - val_loss: 0.0819 - val_accuracy: 0.9828\n",
            "Epoch 69/100\n",
            "782/782 [==============================] - 4s 5ms/step - loss: 0.0237 - accuracy: 0.9926 - val_loss: 0.0790 - val_accuracy: 0.9836\n",
            "Epoch 70/100\n",
            "782/782 [==============================] - 4s 5ms/step - loss: 0.0210 - accuracy: 0.9932 - val_loss: 0.0838 - val_accuracy: 0.9832\n",
            "Epoch 71/100\n",
            "782/782 [==============================] - 4s 5ms/step - loss: 0.0224 - accuracy: 0.9929 - val_loss: 0.0823 - val_accuracy: 0.9838\n",
            "Epoch 72/100\n",
            "782/782 [==============================] - 4s 5ms/step - loss: 0.0223 - accuracy: 0.9930 - val_loss: 0.0853 - val_accuracy: 0.9832\n",
            "Epoch 73/100\n",
            "782/782 [==============================] - 3s 4ms/step - loss: 0.0213 - accuracy: 0.9930 - val_loss: 0.0836 - val_accuracy: 0.9845\n",
            "Epoch 74/100\n",
            "782/782 [==============================] - 3s 4ms/step - loss: 0.0251 - accuracy: 0.9924 - val_loss: 0.0942 - val_accuracy: 0.9829\n",
            "Epoch 75/100\n",
            "782/782 [==============================] - 4s 5ms/step - loss: 0.0212 - accuracy: 0.9936 - val_loss: 0.0861 - val_accuracy: 0.9824\n",
            "Epoch 76/100\n",
            "782/782 [==============================] - 4s 4ms/step - loss: 0.0231 - accuracy: 0.9933 - val_loss: 0.0808 - val_accuracy: 0.9840\n",
            "Epoch 77/100\n",
            "782/782 [==============================] - 4s 4ms/step - loss: 0.0219 - accuracy: 0.9930 - val_loss: 0.0921 - val_accuracy: 0.9833\n",
            "Epoch 78/100\n",
            "782/782 [==============================] - 4s 5ms/step - loss: 0.0207 - accuracy: 0.9936 - val_loss: 0.0911 - val_accuracy: 0.9832\n",
            "Epoch 79/100\n",
            "782/782 [==============================] - 4s 5ms/step - loss: 0.0192 - accuracy: 0.9938 - val_loss: 0.0876 - val_accuracy: 0.9836\n",
            "Epoch 80/100\n",
            "782/782 [==============================] - 4s 5ms/step - loss: 0.0245 - accuracy: 0.9926 - val_loss: 0.0920 - val_accuracy: 0.9838\n",
            "Epoch 81/100\n",
            "782/782 [==============================] - 4s 5ms/step - loss: 0.0235 - accuracy: 0.9926 - val_loss: 0.0800 - val_accuracy: 0.9828\n",
            "Epoch 82/100\n",
            "782/782 [==============================] - 4s 5ms/step - loss: 0.0189 - accuracy: 0.9937 - val_loss: 0.0880 - val_accuracy: 0.9845\n",
            "Epoch 83/100\n",
            "782/782 [==============================] - 4s 5ms/step - loss: 0.0206 - accuracy: 0.9934 - val_loss: 0.0884 - val_accuracy: 0.9845\n",
            "Epoch 84/100\n",
            "782/782 [==============================] - 4s 4ms/step - loss: 0.0204 - accuracy: 0.9937 - val_loss: 0.0935 - val_accuracy: 0.9829\n",
            "Epoch 85/100\n",
            "782/782 [==============================] - 4s 5ms/step - loss: 0.0197 - accuracy: 0.9938 - val_loss: 0.0824 - val_accuracy: 0.9839\n",
            "Epoch 86/100\n",
            "782/782 [==============================] - 4s 5ms/step - loss: 0.0197 - accuracy: 0.9940 - val_loss: 0.0960 - val_accuracy: 0.9829\n",
            "Epoch 87/100\n",
            "782/782 [==============================] - 4s 5ms/step - loss: 0.0198 - accuracy: 0.9940 - val_loss: 0.0890 - val_accuracy: 0.9839\n",
            "Epoch 88/100\n",
            "782/782 [==============================] - 3s 4ms/step - loss: 0.0198 - accuracy: 0.9938 - val_loss: 0.0974 - val_accuracy: 0.9836\n",
            "Epoch 89/100\n",
            "782/782 [==============================] - 4s 5ms/step - loss: 0.0189 - accuracy: 0.9937 - val_loss: 0.0925 - val_accuracy: 0.9835\n",
            "Epoch 90/100\n",
            "782/782 [==============================] - 4s 5ms/step - loss: 0.0234 - accuracy: 0.9931 - val_loss: 0.0924 - val_accuracy: 0.9836\n",
            "Epoch 91/100\n",
            "782/782 [==============================] - 4s 5ms/step - loss: 0.0212 - accuracy: 0.9933 - val_loss: 0.0947 - val_accuracy: 0.9834\n",
            "Epoch 92/100\n",
            "782/782 [==============================] - 4s 5ms/step - loss: 0.0209 - accuracy: 0.9936 - val_loss: 0.0898 - val_accuracy: 0.9835\n",
            "Epoch 93/100\n",
            "782/782 [==============================] - 4s 5ms/step - loss: 0.0203 - accuracy: 0.9942 - val_loss: 0.0958 - val_accuracy: 0.9843\n",
            "Epoch 94/100\n",
            "782/782 [==============================] - 4s 5ms/step - loss: 0.0201 - accuracy: 0.9938 - val_loss: 0.0909 - val_accuracy: 0.9840\n",
            "Epoch 95/100\n",
            "782/782 [==============================] - 4s 5ms/step - loss: 0.0233 - accuracy: 0.9930 - val_loss: 0.0887 - val_accuracy: 0.9835\n",
            "Epoch 96/100\n",
            "782/782 [==============================] - 4s 5ms/step - loss: 0.0187 - accuracy: 0.9942 - val_loss: 0.0978 - val_accuracy: 0.9821\n",
            "Epoch 97/100\n",
            "782/782 [==============================] - 3s 4ms/step - loss: 0.0210 - accuracy: 0.9934 - val_loss: 0.0899 - val_accuracy: 0.9840\n",
            "Epoch 98/100\n",
            "782/782 [==============================] - 4s 5ms/step - loss: 0.0200 - accuracy: 0.9940 - val_loss: 0.0869 - val_accuracy: 0.9848\n",
            "Epoch 99/100\n",
            "782/782 [==============================] - 4s 5ms/step - loss: 0.0196 - accuracy: 0.9942 - val_loss: 0.0848 - val_accuracy: 0.9849\n",
            "Epoch 100/100\n",
            "782/782 [==============================] - 4s 5ms/step - loss: 0.0193 - accuracy: 0.9943 - val_loss: 0.0870 - val_accuracy: 0.9836\n"
          ]
        },
        {
          "output_type": "execute_result",
          "data": {
            "text/plain": [
              "dict_keys(['loss', 'accuracy', 'val_loss', 'val_accuracy'])"
            ]
          },
          "metadata": {},
          "execution_count": 9
        }
      ]
    },
    {
      "cell_type": "code",
      "metadata": {
        "colab": {
          "base_uri": "https://localhost:8080/",
          "height": 295
        },
        "id": "0OEPDlJ_5Cq0",
        "outputId": "6ebd6e50-183a-4488-ce4c-96325c2ccd5c"
      },
      "source": [
        "import matplotlib.pyplot as plt\n",
        "\n",
        "loss=history_out['loss']\n",
        "loss_val=history_out['val_loss']\n",
        "accuracy=history_out['accuracy']\n",
        "accuracy_val=history_out['val_accuracy']\n",
        "plt.plot(loss, 'bo', label='training loss')\n",
        "plt.plot(loss_val,'b', label='validation loss')\n",
        "plt.title('Training and Validation losses')\n",
        "plt.xlabel('epochs')\n",
        "plt.ylabel('loss')\n",
        "plt.legend()\n",
        "plt.show()"
      ],
      "execution_count": null,
      "outputs": [
        {
          "output_type": "display_data",
          "data": {
            "image/png": "[encoded data removed]",
            "text/plain": [
              "<Figure size 432x288 with 1 Axes>"
            ]
          },
          "metadata": {
            "needs_background": "light"
          }
        }
      ]
    },
    {
      "cell_type": "code",
      "metadata": {
        "colab": {
          "base_uri": "https://localhost:8080/",
          "height": 295
        },
        "id": "aLSrAPIqZL6g",
        "outputId": "b68a6f84-a32d-49c0-a314-bb384e24ec7c"
      },
      "source": [
        "plt.clf()\n",
        "plt.plot(accuracy, 'bo', label='training loss')\n",
        "plt.plot(accuracy,'b', label='validation loss')\n",
        "plt.title('Training and Validation accuracy')\n",
        "plt.xlabel('epochs')\n",
        "plt.ylabel('accuracy')\n",
        "plt.legend()\n",
        "plt.show()"
      ],
      "execution_count": null,
      "outputs": [
        {
          "output_type": "display_data",
          "data": {
            "image/png": "[encoded data removed]",
            "text/plain": [
              "<Figure size 432x288 with 1 Axes>"
            ]
          },
          "metadata": {
            "needs_background": "light"
          }
        }
      ]
    },
    {
      "cell_type": "code",
      "metadata": {
        "colab": {
          "base_uri": "https://localhost:8080/"
        },
        "id": "IqeeaEgZaOiw",
        "outputId": "3c928f7a-2a0b-4a1b-94a7-79c14cb88ee0"
      },
      "source": [
        "model.compile(loss='categorical_crossentropy',optimizer='adam', metrics=['accuracy'])\n",
        "history=model.fit(x_train, y_train, epochs=100, batch_size=64, validation_data=(x_val,y_val)) \n",
        "history_out=history.history\n",
        "history_out.keys()\n",
        "#60000개의 자료를 사용, 학습횟수는 각 에폭당 60000/64=937.5 -> 938회"
      ],
      "execution_count": null,
      "outputs": [
        {
          "output_type": "stream",
          "name": "stdout",
          "text": [
            "Epoch 1/100\n",
            "938/938 [==============================] - 5s 5ms/step - loss: 0.0162 - accuracy: 0.9965 - val_loss: 2.8256e-04 - val_accuracy: 0.9999\n",
            "Epoch 2/100\n",
            "938/938 [==============================] - 4s 5ms/step - loss: 0.0154 - accuracy: 0.9961 - val_loss: 3.7718e-04 - val_accuracy: 1.0000\n",
            "Epoch 3/100\n",
            "938/938 [==============================] - 4s 5ms/step - loss: 0.0159 - accuracy: 0.9962 - val_loss: 1.5355e-04 - val_accuracy: 1.0000\n",
            "Epoch 4/100\n",
            "938/938 [==============================] - 4s 4ms/step - loss: 0.0179 - accuracy: 0.9957 - val_loss: 3.7521e-04 - val_accuracy: 0.9999\n",
            "Epoch 5/100\n",
            "938/938 [==============================] - 4s 5ms/step - loss: 0.0129 - accuracy: 0.9967 - val_loss: 1.8761e-04 - val_accuracy: 1.0000\n",
            "Epoch 6/100\n",
            "938/938 [==============================] - 4s 5ms/step - loss: 0.0184 - accuracy: 0.9959 - val_loss: 2.8905e-04 - val_accuracy: 0.9999\n",
            "Epoch 7/100\n",
            "938/938 [==============================] - 4s 5ms/step - loss: 0.0135 - accuracy: 0.9965 - val_loss: 3.7248e-04 - val_accuracy: 1.0000\n",
            "Epoch 8/100\n",
            "938/938 [==============================] - 4s 5ms/step - loss: 0.0119 - accuracy: 0.9968 - val_loss: 2.2470e-04 - val_accuracy: 0.9999\n",
            "Epoch 9/100\n",
            "938/938 [==============================] - 4s 5ms/step - loss: 0.0154 - accuracy: 0.9962 - val_loss: 1.3988e-04 - val_accuracy: 1.0000\n",
            "Epoch 10/100\n",
            "938/938 [==============================] - 4s 5ms/step - loss: 0.0166 - accuracy: 0.9959 - val_loss: 4.2703e-04 - val_accuracy: 0.9998\n",
            "Epoch 11/100\n",
            "938/938 [==============================] - 4s 5ms/step - loss: 0.0183 - accuracy: 0.9959 - val_loss: 4.6275e-04 - val_accuracy: 0.9999\n",
            "Epoch 12/100\n",
            "938/938 [==============================] - 4s 5ms/step - loss: 0.0151 - accuracy: 0.9962 - val_loss: 2.5740e-04 - val_accuracy: 1.0000\n",
            "Epoch 13/100\n",
            "938/938 [==============================] - 4s 5ms/step - loss: 0.0154 - accuracy: 0.9963 - val_loss: 4.7505e-04 - val_accuracy: 0.9998\n",
            "Epoch 14/100\n",
            "938/938 [==============================] - 4s 5ms/step - loss: 0.0131 - accuracy: 0.9962 - val_loss: 4.1080e-04 - val_accuracy: 0.9999\n",
            "Epoch 15/100\n",
            "938/938 [==============================] - 4s 4ms/step - loss: 0.0148 - accuracy: 0.9967 - val_loss: 1.0413e-04 - val_accuracy: 1.0000\n",
            "Epoch 16/100\n",
            "938/938 [==============================] - 4s 4ms/step - loss: 0.0156 - accuracy: 0.9963 - val_loss: 3.0329e-04 - val_accuracy: 0.9999\n",
            "Epoch 17/100\n",
            "938/938 [==============================] - 4s 5ms/step - loss: 0.0129 - accuracy: 0.9968 - val_loss: 1.2735e-04 - val_accuracy: 1.0000\n",
            "Epoch 18/100\n",
            "938/938 [==============================] - 5s 5ms/step - loss: 0.0151 - accuracy: 0.9961 - val_loss: 1.7841e-04 - val_accuracy: 1.0000\n",
            "Epoch 19/100\n",
            "938/938 [==============================] - 4s 5ms/step - loss: 0.0143 - accuracy: 0.9964 - val_loss: 2.9514e-04 - val_accuracy: 0.9999\n",
            "Epoch 20/100\n",
            "938/938 [==============================] - 4s 5ms/step - loss: 0.0121 - accuracy: 0.9968 - val_loss: 1.3473e-04 - val_accuracy: 1.0000\n",
            "Epoch 21/100\n",
            "938/938 [==============================] - 5s 5ms/step - loss: 0.0137 - accuracy: 0.9963 - val_loss: 2.1787e-04 - val_accuracy: 1.0000\n",
            "Epoch 22/100\n",
            "938/938 [==============================] - 4s 5ms/step - loss: 0.0144 - accuracy: 0.9965 - val_loss: 1.6319e-04 - val_accuracy: 1.0000\n",
            "Epoch 23/100\n",
            "938/938 [==============================] - 4s 5ms/step - loss: 0.0154 - accuracy: 0.9959 - val_loss: 3.1480e-04 - val_accuracy: 1.0000\n",
            "Epoch 24/100\n",
            "938/938 [==============================] - 4s 5ms/step - loss: 0.0113 - accuracy: 0.9971 - val_loss: 4.1626e-04 - val_accuracy: 0.9997\n",
            "Epoch 25/100\n",
            "938/938 [==============================] - 4s 5ms/step - loss: 0.0152 - accuracy: 0.9968 - val_loss: 4.9096e-04 - val_accuracy: 0.9997\n",
            "Epoch 26/100\n",
            "938/938 [==============================] - 4s 4ms/step - loss: 0.0168 - accuracy: 0.9961 - val_loss: 3.0975e-04 - val_accuracy: 0.9999\n",
            "Epoch 27/100\n",
            "938/938 [==============================] - 4s 4ms/step - loss: 0.0163 - accuracy: 0.9958 - val_loss: 1.6217e-04 - val_accuracy: 1.0000\n",
            "Epoch 28/100\n",
            "938/938 [==============================] - 4s 4ms/step - loss: 0.0112 - accuracy: 0.9972 - val_loss: 2.0190e-04 - val_accuracy: 0.9999\n",
            "Epoch 29/100\n",
            "938/938 [==============================] - 4s 4ms/step - loss: 0.0172 - accuracy: 0.9960 - val_loss: 3.9486e-04 - val_accuracy: 0.9999\n",
            "Epoch 30/100\n",
            "938/938 [==============================] - 4s 4ms/step - loss: 0.0152 - accuracy: 0.9963 - val_loss: 2.5549e-04 - val_accuracy: 1.0000\n",
            "Epoch 31/100\n",
            "938/938 [==============================] - 4s 4ms/step - loss: 0.0150 - accuracy: 0.9962 - val_loss: 1.8839e-04 - val_accuracy: 1.0000\n",
            "Epoch 32/100\n",
            "938/938 [==============================] - 4s 5ms/step - loss: 0.0131 - accuracy: 0.9967 - val_loss: 2.8923e-04 - val_accuracy: 1.0000\n",
            "Epoch 33/100\n",
            "938/938 [==============================] - 4s 5ms/step - loss: 0.0161 - accuracy: 0.9963 - val_loss: 2.5130e-04 - val_accuracy: 0.9999\n",
            "Epoch 34/100\n",
            "938/938 [==============================] - 4s 5ms/step - loss: 0.0137 - accuracy: 0.9967 - val_loss: 2.5767e-04 - val_accuracy: 1.0000\n",
            "Epoch 35/100\n",
            "938/938 [==============================] - 4s 5ms/step - loss: 0.0139 - accuracy: 0.9967 - val_loss: 4.7158e-04 - val_accuracy: 0.9999\n",
            "Epoch 36/100\n",
            "938/938 [==============================] - 4s 5ms/step - loss: 0.0136 - accuracy: 0.9963 - val_loss: 4.4069e-04 - val_accuracy: 0.9999\n",
            "Epoch 37/100\n",
            "938/938 [==============================] - 4s 4ms/step - loss: 0.0117 - accuracy: 0.9969 - val_loss: 4.5195e-04 - val_accuracy: 0.9998\n",
            "Epoch 38/100\n",
            "938/938 [==============================] - 4s 5ms/step - loss: 0.0147 - accuracy: 0.9963 - val_loss: 4.9788e-04 - val_accuracy: 0.9999\n",
            "Epoch 39/100\n",
            "938/938 [==============================] - 4s 5ms/step - loss: 0.0117 - accuracy: 0.9968 - val_loss: 7.8839e-05 - val_accuracy: 1.0000\n",
            "Epoch 40/100\n",
            "938/938 [==============================] - 4s 5ms/step - loss: 0.0138 - accuracy: 0.9963 - val_loss: 9.7060e-04 - val_accuracy: 0.9999\n",
            "Epoch 41/100\n",
            "938/938 [==============================] - 4s 5ms/step - loss: 0.0158 - accuracy: 0.9961 - val_loss: 5.4373e-04 - val_accuracy: 0.9999\n",
            "Epoch 42/100\n",
            "938/938 [==============================] - 4s 5ms/step - loss: 0.0136 - accuracy: 0.9967 - val_loss: 2.2330e-04 - val_accuracy: 1.0000\n",
            "Epoch 43/100\n",
            "938/938 [==============================] - 4s 5ms/step - loss: 0.0130 - accuracy: 0.9963 - val_loss: 2.7755e-04 - val_accuracy: 0.9999\n",
            "Epoch 44/100\n",
            "938/938 [==============================] - 4s 5ms/step - loss: 0.0105 - accuracy: 0.9975 - val_loss: 1.9723e-04 - val_accuracy: 1.0000\n",
            "Epoch 45/100\n",
            "938/938 [==============================] - 4s 5ms/step - loss: 0.0132 - accuracy: 0.9968 - val_loss: 1.6871e-04 - val_accuracy: 1.0000\n",
            "Epoch 46/100\n",
            "938/938 [==============================] - 4s 4ms/step - loss: 0.0119 - accuracy: 0.9970 - val_loss: 6.9836e-04 - val_accuracy: 0.9998\n",
            "Epoch 47/100\n",
            "938/938 [==============================] - 4s 4ms/step - loss: 0.0148 - accuracy: 0.9962 - val_loss: 9.0059e-05 - val_accuracy: 1.0000\n",
            "Epoch 48/100\n",
            "938/938 [==============================] - 4s 4ms/step - loss: 0.0129 - accuracy: 0.9964 - val_loss: 4.4944e-04 - val_accuracy: 0.9999\n",
            "Epoch 49/100\n",
            "938/938 [==============================] - 4s 4ms/step - loss: 0.0130 - accuracy: 0.9966 - val_loss: 2.3451e-04 - val_accuracy: 0.9999\n",
            "Epoch 50/100\n",
            "938/938 [==============================] - 4s 4ms/step - loss: 0.0149 - accuracy: 0.9961 - val_loss: 2.0650e-04 - val_accuracy: 1.0000\n",
            "Epoch 51/100\n",
            "938/938 [==============================] - 4s 5ms/step - loss: 0.0148 - accuracy: 0.9963 - val_loss: 2.1088e-04 - val_accuracy: 1.0000\n",
            "Epoch 52/100\n",
            "938/938 [==============================] - 4s 5ms/step - loss: 0.0132 - accuracy: 0.9970 - val_loss: 6.5618e-05 - val_accuracy: 1.0000\n",
            "Epoch 53/100\n",
            "938/938 [==============================] - 4s 5ms/step - loss: 0.0140 - accuracy: 0.9962 - val_loss: 9.9575e-05 - val_accuracy: 1.0000\n",
            "Epoch 54/100\n",
            "938/938 [==============================] - 4s 4ms/step - loss: 0.0165 - accuracy: 0.9961 - val_loss: 1.0839e-04 - val_accuracy: 1.0000\n",
            "Epoch 55/100\n",
            "938/938 [==============================] - 4s 5ms/step - loss: 0.0119 - accuracy: 0.9968 - val_loss: 9.2320e-05 - val_accuracy: 1.0000\n",
            "Epoch 56/100\n",
            "938/938 [==============================] - 4s 5ms/step - loss: 0.0103 - accuracy: 0.9971 - val_loss: 1.4498e-04 - val_accuracy: 1.0000\n",
            "Epoch 57/100\n",
            "938/938 [==============================] - 4s 5ms/step - loss: 0.0139 - accuracy: 0.9966 - val_loss: 2.0230e-04 - val_accuracy: 1.0000\n",
            "Epoch 58/100\n",
            "938/938 [==============================] - 4s 5ms/step - loss: 0.0131 - accuracy: 0.9969 - val_loss: 7.6839e-05 - val_accuracy: 1.0000\n",
            "Epoch 59/100\n",
            "938/938 [==============================] - 4s 5ms/step - loss: 0.0140 - accuracy: 0.9968 - val_loss: 1.6900e-04 - val_accuracy: 1.0000\n",
            "Epoch 60/100\n",
            "938/938 [==============================] - 4s 5ms/step - loss: 0.0114 - accuracy: 0.9971 - val_loss: 1.4851e-04 - val_accuracy: 1.0000\n",
            "Epoch 61/100\n",
            "938/938 [==============================] - 4s 5ms/step - loss: 0.0112 - accuracy: 0.9969 - val_loss: 6.0546e-04 - val_accuracy: 0.9998\n",
            "Epoch 62/100\n",
            "938/938 [==============================] - 4s 5ms/step - loss: 0.0158 - accuracy: 0.9962 - val_loss: 1.9421e-04 - val_accuracy: 1.0000\n",
            "Epoch 63/100\n",
            "938/938 [==============================] - 4s 4ms/step - loss: 0.0151 - accuracy: 0.9961 - val_loss: 1.7974e-04 - val_accuracy: 1.0000\n",
            "Epoch 64/100\n",
            "938/938 [==============================] - 4s 5ms/step - loss: 0.0116 - accuracy: 0.9970 - val_loss: 2.6473e-04 - val_accuracy: 0.9999\n",
            "Epoch 65/100\n",
            "938/938 [==============================] - 4s 5ms/step - loss: 0.0133 - accuracy: 0.9966 - val_loss: 3.3180e-04 - val_accuracy: 0.9999\n",
            "Epoch 66/100\n",
            "938/938 [==============================] - 4s 5ms/step - loss: 0.0139 - accuracy: 0.9967 - val_loss: 3.3909e-04 - val_accuracy: 0.9999\n",
            "Epoch 67/100\n",
            "938/938 [==============================] - 4s 5ms/step - loss: 0.0132 - accuracy: 0.9968 - val_loss: 1.7023e-04 - val_accuracy: 1.0000\n",
            "Epoch 68/100\n",
            "938/938 [==============================] - 4s 5ms/step - loss: 0.0111 - accuracy: 0.9973 - val_loss: 1.8719e-04 - val_accuracy: 1.0000\n",
            "Epoch 69/100\n",
            "938/938 [==============================] - 4s 5ms/step - loss: 0.0151 - accuracy: 0.9963 - val_loss: 1.6440e-04 - val_accuracy: 1.0000\n",
            "Epoch 70/100\n",
            "938/938 [==============================] - 4s 4ms/step - loss: 0.0130 - accuracy: 0.9965 - val_loss: 5.0573e-04 - val_accuracy: 0.9999\n",
            "Epoch 71/100\n",
            "938/938 [==============================] - 4s 4ms/step - loss: 0.0131 - accuracy: 0.9968 - val_loss: 2.9425e-04 - val_accuracy: 0.9999\n",
            "Epoch 72/100\n",
            "938/938 [==============================] - 4s 5ms/step - loss: 0.0129 - accuracy: 0.9969 - val_loss: 3.8807e-04 - val_accuracy: 0.9999\n",
            "Epoch 73/100\n",
            "938/938 [==============================] - 4s 5ms/step - loss: 0.0123 - accuracy: 0.9967 - val_loss: 4.4799e-04 - val_accuracy: 0.9999\n",
            "Epoch 74/100\n",
            "938/938 [==============================] - 4s 5ms/step - loss: 0.0154 - accuracy: 0.9961 - val_loss: 4.6353e-04 - val_accuracy: 0.9999\n",
            "Epoch 75/100\n",
            "938/938 [==============================] - 4s 5ms/step - loss: 0.0133 - accuracy: 0.9966 - val_loss: 2.3715e-04 - val_accuracy: 1.0000\n",
            "Epoch 76/100\n",
            "938/938 [==============================] - 4s 5ms/step - loss: 0.0129 - accuracy: 0.9967 - val_loss: 1.7904e-04 - val_accuracy: 1.0000\n",
            "Epoch 77/100\n",
            "938/938 [==============================] - 4s 5ms/step - loss: 0.0126 - accuracy: 0.9963 - val_loss: 2.0718e-04 - val_accuracy: 1.0000\n",
            "Epoch 78/100\n",
            "938/938 [==============================] - 4s 5ms/step - loss: 0.0131 - accuracy: 0.9967 - val_loss: 5.7764e-04 - val_accuracy: 0.9998\n",
            "Epoch 79/100\n",
            "938/938 [==============================] - 4s 5ms/step - loss: 0.0105 - accuracy: 0.9972 - val_loss: 2.2966e-04 - val_accuracy: 0.9999\n",
            "Epoch 80/100\n",
            "938/938 [==============================] - 4s 5ms/step - loss: 0.0157 - accuracy: 0.9963 - val_loss: 4.6772e-04 - val_accuracy: 0.9998\n",
            "Epoch 81/100\n",
            "938/938 [==============================] - 4s 5ms/step - loss: 0.0118 - accuracy: 0.9970 - val_loss: 1.1214e-04 - val_accuracy: 1.0000\n",
            "Epoch 82/100\n",
            "938/938 [==============================] - 4s 5ms/step - loss: 0.0136 - accuracy: 0.9967 - val_loss: 2.0289e-04 - val_accuracy: 1.0000\n",
            "Epoch 83/100\n",
            "938/938 [==============================] - 4s 5ms/step - loss: 0.0134 - accuracy: 0.9966 - val_loss: 8.3713e-05 - val_accuracy: 1.0000\n",
            "Epoch 84/100\n",
            "938/938 [==============================] - 5s 5ms/step - loss: 0.0147 - accuracy: 0.9966 - val_loss: 1.3014e-04 - val_accuracy: 1.0000\n",
            "Epoch 85/100\n",
            "938/938 [==============================] - 4s 5ms/step - loss: 0.0135 - accuracy: 0.9967 - val_loss: 1.8411e-04 - val_accuracy: 1.0000\n",
            "Epoch 86/100\n",
            "938/938 [==============================] - 4s 5ms/step - loss: 0.0101 - accuracy: 0.9973 - val_loss: 1.9963e-04 - val_accuracy: 1.0000\n",
            "Epoch 87/100\n",
            "938/938 [==============================] - 4s 5ms/step - loss: 0.0133 - accuracy: 0.9967 - val_loss: 1.6767e-04 - val_accuracy: 1.0000\n",
            "Epoch 88/100\n",
            "938/938 [==============================] - 4s 5ms/step - loss: 0.0133 - accuracy: 0.9969 - val_loss: 3.2869e-04 - val_accuracy: 0.9999\n",
            "Epoch 89/100\n",
            "938/938 [==============================] - 4s 4ms/step - loss: 0.0152 - accuracy: 0.9962 - val_loss: 8.7021e-05 - val_accuracy: 1.0000\n",
            "Epoch 90/100\n",
            "938/938 [==============================] - 4s 5ms/step - loss: 0.0144 - accuracy: 0.9968 - val_loss: 1.5952e-04 - val_accuracy: 1.0000\n",
            "Epoch 91/100\n",
            "938/938 [==============================] - 4s 5ms/step - loss: 0.0158 - accuracy: 0.9964 - val_loss: 1.1998e-04 - val_accuracy: 1.0000\n",
            "Epoch 92/100\n",
            "938/938 [==============================] - 4s 5ms/step - loss: 0.0142 - accuracy: 0.9968 - val_loss: 5.9371e-04 - val_accuracy: 0.9997\n",
            "Epoch 93/100\n",
            "938/938 [==============================] - 4s 5ms/step - loss: 0.0148 - accuracy: 0.9967 - val_loss: 1.6229e-04 - val_accuracy: 1.0000\n",
            "Epoch 94/100\n",
            "938/938 [==============================] - 4s 5ms/step - loss: 0.0132 - accuracy: 0.9966 - val_loss: 6.4832e-05 - val_accuracy: 1.0000\n",
            "Epoch 95/100\n",
            "938/938 [==============================] - 4s 5ms/step - loss: 0.0137 - accuracy: 0.9966 - val_loss: 5.2120e-04 - val_accuracy: 0.9998\n",
            "Epoch 96/100\n",
            "938/938 [==============================] - 4s 5ms/step - loss: 0.0108 - accuracy: 0.9974 - val_loss: 4.7313e-05 - val_accuracy: 1.0000\n",
            "Epoch 97/100\n",
            "938/938 [==============================] - 4s 5ms/step - loss: 0.0115 - accuracy: 0.9970 - val_loss: 1.3392e-04 - val_accuracy: 1.0000\n",
            "Epoch 98/100\n",
            "938/938 [==============================] - 4s 5ms/step - loss: 0.0129 - accuracy: 0.9967 - val_loss: 1.8294e-04 - val_accuracy: 1.0000\n",
            "Epoch 99/100\n",
            "938/938 [==============================] - 4s 5ms/step - loss: 0.0161 - accuracy: 0.9962 - val_loss: 2.8498e-04 - val_accuracy: 0.9999\n",
            "Epoch 100/100\n",
            "938/938 [==============================] - 4s 5ms/step - loss: 0.0121 - accuracy: 0.9971 - val_loss: 3.9930e-04 - val_accuracy: 0.9999\n"
          ]
        },
        {
          "output_type": "execute_result",
          "data": {
            "text/plain": [
              "dict_keys(['loss', 'accuracy', 'val_loss', 'val_accuracy'])"
            ]
          },
          "metadata": {},
          "execution_count": 16
        }
      ]
    },
    {
      "cell_type": "code",
      "metadata": {
        "colab": {
          "base_uri": "https://localhost:8080/",
          "height": 295
        },
        "id": "TmNphD6s_qij",
        "outputId": "66d9c066-d632-4ee5-f339-ebd58230ece6"
      },
      "source": [
        "import matplotlib.pyplot as plt\n",
        "\n",
        "loss=history_out['loss']\n",
        "loss_val=history_out['val_loss']\n",
        "accuracy=history_out['accuracy']\n",
        "accuracy_val=history_out['val_accuracy']\n",
        "plt.plot(loss, 'bo', label='training loss')\n",
        "plt.plot(loss_val,'b', label='validation loss')\n",
        "plt.title('Training and Validation losses')\n",
        "plt.xlabel('epochs')\n",
        "plt.ylabel('loss')\n",
        "plt.legend()\n",
        "plt.show()"
      ],
      "execution_count": null,
      "outputs": [
        {
          "output_type": "display_data",
          "data": {
            "image/png": "[encoded data removed]",
            "text/plain": [
              "<Figure size 432x288 with 1 Axes>"
            ]
          },
          "metadata": {
            "needs_background": "light"
          }
        }
      ]
    },
    {
      "cell_type": "code",
      "metadata": {
        "colab": {
          "base_uri": "https://localhost:8080/",
          "height": 295
        },
        "id": "V1c69-wz_sKi",
        "outputId": "938b92c6-4a04-45a0-d511-d37ceed01e10"
      },
      "source": [
        "plt.clf()\n",
        "plt.plot(accuracy, 'bo', label='training loss')\n",
        "plt.plot(accuracy,'b', label='validation loss')\n",
        "plt.title('Training and Validation accuracy')\n",
        "plt.xlabel('epochs')\n",
        "plt.ylabel('accuracy')\n",
        "plt.legend()\n",
        "plt.show()"
      ],
      "execution_count": null,
      "outputs": [
        {
          "output_type": "display_data",
          "data": {
            "image/png": "[encoded data removed]",
            "text/plain": [
              "<Figure size 432x288 with 1 Axes>"
            ]
          },
          "metadata": {
            "needs_background": "light"
          }
        }
      ]
    },
    {
      "cell_type": "code",
      "metadata": {
        "colab": {
          "base_uri": "https://localhost:8080/",
          "height": 381
        },
        "id": "W4sPdW2zbLBl",
        "outputId": "186bfe3f-ed08-48f2-83dd-544b2b6f8a20"
      },
      "source": [
        "import pandas as pd\n",
        "result_train=model.evaluate(x_train, y_train)\n",
        "result_test=model.evaluate(x_test, y_test)\n",
        "print(result_train)\n",
        "print(result_test)\n",
        "\n",
        "pred=model.predict(x_test)\n",
        "pred=pd.DataFrame(pred)\n",
        "pred.head()"
      ],
      "execution_count": null,
      "outputs": [
        {
          "output_type": "stream",
          "name": "stdout",
          "text": [
            "1875/1875 [==============================] - 3s 2ms/step - loss: 0.0012 - accuracy: 0.9997\n",
            "313/313 [==============================] - 0s 1ms/step - loss: 0.1072 - accuracy: 0.9829\n",
            "[0.0011931800981983542, 0.9997000098228455]\n",
            "[0.10719159990549088, 0.9829000234603882]\n"
          ]
        },
        {
          "output_type": "execute_result",
          "data": {
            "text/html": [
              "<div>\n",
              "<style scoped>\n",
              "    .dataframe tbody tr th:only-of-type {\n",
              "        vertical-align: middle;\n",
              "    }\n",
              "\n",
              "    .dataframe tbody tr th {\n",
              "        vertical-align: top;\n",
              "    }\n",
              "\n",
              "    .dataframe thead th {\n",
              "        text-align: right;\n",
              "    }\n",
              "</style>\n",
              "<table border=\"1\" class=\"dataframe\">\n",
              "  <thead>\n",
              "    <tr style=\"text-align: right;\">\n",
              "      <th></th>\n",
              "      <th>0</th>\n",
              "      <th>1</th>\n",
              "      <th>2</th>\n",
              "      <th>3</th>\n",
              "      <th>4</th>\n",
              "      <th>5</th>\n",
              "      <th>6</th>\n",
              "      <th>7</th>\n",
              "      <th>8</th>\n",
              "      <th>9</th>\n",
              "    </tr>\n",
              "  </thead>\n",
              "  <tbody>\n",
              "    <tr>\n",
              "      <th>0</th>\n",
              "      <td>1.049556e-22</td>\n",
              "      <td>1.101501e-12</td>\n",
              "      <td>3.827672e-11</td>\n",
              "      <td>5.972579e-10</td>\n",
              "      <td>4.710122e-21</td>\n",
              "      <td>7.849884e-12</td>\n",
              "      <td>7.514755e-23</td>\n",
              "      <td>1.000000e+00</td>\n",
              "      <td>2.691042e-16</td>\n",
              "      <td>2.238525e-14</td>\n",
              "    </tr>\n",
              "    <tr>\n",
              "      <th>1</th>\n",
              "      <td>1.141523e-28</td>\n",
              "      <td>3.105538e-14</td>\n",
              "      <td>1.000000e+00</td>\n",
              "      <td>1.199773e-16</td>\n",
              "      <td>1.930503e-36</td>\n",
              "      <td>1.331716e-23</td>\n",
              "      <td>9.588755e-27</td>\n",
              "      <td>1.554455e-35</td>\n",
              "      <td>9.597741e-23</td>\n",
              "      <td>0.000000e+00</td>\n",
              "    </tr>\n",
              "    <tr>\n",
              "      <th>2</th>\n",
              "      <td>1.180195e-12</td>\n",
              "      <td>1.000000e+00</td>\n",
              "      <td>2.135505e-08</td>\n",
              "      <td>1.492164e-13</td>\n",
              "      <td>2.974532e-10</td>\n",
              "      <td>2.032383e-12</td>\n",
              "      <td>4.568410e-11</td>\n",
              "      <td>6.542538e-10</td>\n",
              "      <td>1.724587e-10</td>\n",
              "      <td>7.921121e-18</td>\n",
              "    </tr>\n",
              "    <tr>\n",
              "      <th>3</th>\n",
              "      <td>1.000000e+00</td>\n",
              "      <td>2.508519e-16</td>\n",
              "      <td>1.772551e-08</td>\n",
              "      <td>1.717653e-14</td>\n",
              "      <td>3.240783e-16</td>\n",
              "      <td>2.862393e-09</td>\n",
              "      <td>2.319517e-10</td>\n",
              "      <td>4.408817e-11</td>\n",
              "      <td>2.108160e-14</td>\n",
              "      <td>2.616803e-13</td>\n",
              "    </tr>\n",
              "    <tr>\n",
              "      <th>4</th>\n",
              "      <td>2.381953e-21</td>\n",
              "      <td>2.863935e-15</td>\n",
              "      <td>8.372965e-14</td>\n",
              "      <td>9.307753e-20</td>\n",
              "      <td>1.000000e+00</td>\n",
              "      <td>5.928871e-17</td>\n",
              "      <td>1.166008e-18</td>\n",
              "      <td>8.139257e-11</td>\n",
              "      <td>8.206699e-21</td>\n",
              "      <td>1.035690e-08</td>\n",
              "    </tr>\n",
              "  </tbody>\n",
              "</table>\n",
              "</div>"
            ],
            "text/plain": [
              "              0             1  ...             8             9\n",
              "0  1.049556e-22  1.101501e-12  ...  2.691042e-16  2.238525e-14\n",
              "1  1.141523e-28  3.105538e-14  ...  9.597741e-23  0.000000e+00\n",
              "2  1.180195e-12  1.000000e+00  ...  1.724587e-10  7.921121e-18\n",
              "3  1.000000e+00  2.508519e-16  ...  2.108160e-14  2.616803e-13\n",
              "4  2.381953e-21  2.863935e-15  ...  8.206699e-21  1.035690e-08\n",
              "\n",
              "[5 rows x 10 columns]"
            ]
          },
          "metadata": {},
          "execution_count": 101
        }
      ]
    },
    {
      "cell_type": "markdown",
      "metadata": {
        "id": "KFqg4c5mbwfd"
      },
      "source": [
        "# Functional API / MLP"
      ]
    },
    {
      "cell_type": "code",
      "metadata": {
        "id": "Y60TjXFub2jt"
      },
      "source": [
        "import numpy as np\n",
        "from keras.models import Model\n",
        "from keras.layers import Dense, Dropout, Input\n",
        "\n",
        "x=Input(shape=(num_features,))\n",
        "h1=Dense(256,activation='relu')(x)  #표현 형식을 잘 비교할 것\n",
        "h1=Dropout(0.45)(h1)\n",
        "h2=Dense(num_classes,activation='relu')(h1)\n",
        "out=Dense(num_classes, activation='softmax')(h2)\n",
        "model=Model(inputs=x, outputs=out)  # model 객체화의 범위를 지정"
      ],
      "execution_count": null,
      "outputs": []
    },
    {
      "cell_type": "code",
      "metadata": {
        "colab": {
          "base_uri": "https://localhost:8080/"
        },
        "id": "Lzx0N7yEjYHz",
        "outputId": "32ece5ad-78ea-44df-9ae8-d1cc7dc70f06"
      },
      "source": [
        "model.compile(loss='categorical_crossentropy',optimizer='adam', metrics=['acc'])\n",
        "history=model.fit(x_train, y_train, epochs=100, batch_size=64) "
      ],
      "execution_count": null,
      "outputs": [
        {
          "output_type": "stream",
          "name": "stdout",
          "text": [
            "Epoch 1/100\n",
            "938/938 [==============================] - 4s 3ms/step - loss: 0.4443 - acc: 0.8711\n",
            "Epoch 2/100\n",
            "938/938 [==============================] - 3s 3ms/step - loss: 0.1941 - acc: 0.9437\n",
            "Epoch 3/100\n",
            "938/938 [==============================] - 3s 3ms/step - loss: 0.1463 - acc: 0.9558\n",
            "Epoch 4/100\n",
            "938/938 [==============================] - 3s 3ms/step - loss: 0.1201 - acc: 0.9636\n",
            "Epoch 5/100\n",
            "938/938 [==============================] - 3s 3ms/step - loss: 0.1072 - acc: 0.9676\n",
            "Epoch 6/100\n",
            "938/938 [==============================] - 3s 3ms/step - loss: 0.0937 - acc: 0.9713\n",
            "Epoch 7/100\n",
            "938/938 [==============================] - 3s 3ms/step - loss: 0.0864 - acc: 0.9728\n",
            "Epoch 8/100\n",
            "938/938 [==============================] - 3s 3ms/step - loss: 0.0774 - acc: 0.9752\n",
            "Epoch 9/100\n",
            "938/938 [==============================] - 3s 3ms/step - loss: 0.0744 - acc: 0.9767\n",
            "Epoch 10/100\n",
            "938/938 [==============================] - 3s 3ms/step - loss: 0.0679 - acc: 0.9782\n",
            "Epoch 11/100\n",
            "938/938 [==============================] - 3s 3ms/step - loss: 0.0649 - acc: 0.9790\n",
            "Epoch 12/100\n",
            "938/938 [==============================] - 3s 3ms/step - loss: 0.0619 - acc: 0.9803\n",
            "Epoch 13/100\n",
            "938/938 [==============================] - 3s 3ms/step - loss: 0.0609 - acc: 0.9805\n",
            "Epoch 14/100\n",
            "938/938 [==============================] - 3s 3ms/step - loss: 0.0544 - acc: 0.9823\n",
            "Epoch 15/100\n",
            "938/938 [==============================] - 3s 3ms/step - loss: 0.0524 - acc: 0.9832\n",
            "Epoch 16/100\n",
            "938/938 [==============================] - 3s 3ms/step - loss: 0.0519 - acc: 0.9829\n",
            "Epoch 17/100\n",
            "938/938 [==============================] - 3s 3ms/step - loss: 0.0482 - acc: 0.9839\n",
            "Epoch 18/100\n",
            "938/938 [==============================] - 3s 3ms/step - loss: 0.0475 - acc: 0.9845\n",
            "Epoch 19/100\n",
            "938/938 [==============================] - 3s 3ms/step - loss: 0.0459 - acc: 0.9847\n",
            "Epoch 20/100\n",
            "938/938 [==============================] - 3s 3ms/step - loss: 0.0442 - acc: 0.9855\n",
            "Epoch 21/100\n",
            "938/938 [==============================] - 3s 3ms/step - loss: 0.0442 - acc: 0.9850\n",
            "Epoch 22/100\n",
            "938/938 [==============================] - 3s 3ms/step - loss: 0.0418 - acc: 0.9862\n",
            "Epoch 23/100\n",
            "938/938 [==============================] - 3s 3ms/step - loss: 0.0401 - acc: 0.9860\n",
            "Epoch 24/100\n",
            "938/938 [==============================] - 3s 3ms/step - loss: 0.0420 - acc: 0.9856\n",
            "Epoch 25/100\n",
            "938/938 [==============================] - 3s 3ms/step - loss: 0.0372 - acc: 0.9876\n",
            "Epoch 26/100\n",
            "938/938 [==============================] - 3s 3ms/step - loss: 0.0384 - acc: 0.9873\n",
            "Epoch 27/100\n",
            "938/938 [==============================] - 3s 3ms/step - loss: 0.0356 - acc: 0.9879\n",
            "Epoch 28/100\n",
            "938/938 [==============================] - 3s 3ms/step - loss: 0.0376 - acc: 0.9872\n",
            "Epoch 29/100\n",
            "938/938 [==============================] - 3s 3ms/step - loss: 0.0366 - acc: 0.9879\n",
            "Epoch 30/100\n",
            "938/938 [==============================] - 3s 3ms/step - loss: 0.0341 - acc: 0.9886\n",
            "Epoch 31/100\n",
            "938/938 [==============================] - 3s 3ms/step - loss: 0.0340 - acc: 0.9883\n",
            "Epoch 32/100\n",
            "938/938 [==============================] - 3s 3ms/step - loss: 0.0336 - acc: 0.9884\n",
            "Epoch 33/100\n",
            "938/938 [==============================] - 3s 3ms/step - loss: 0.0337 - acc: 0.9888\n",
            "Epoch 34/100\n",
            "938/938 [==============================] - 3s 3ms/step - loss: 0.0339 - acc: 0.9886\n",
            "Epoch 35/100\n",
            "938/938 [==============================] - 3s 3ms/step - loss: 0.0329 - acc: 0.9890\n",
            "Epoch 36/100\n",
            "938/938 [==============================] - 3s 3ms/step - loss: 0.0322 - acc: 0.9898\n",
            "Epoch 37/100\n",
            "938/938 [==============================] - 3s 3ms/step - loss: 0.0308 - acc: 0.9894\n",
            "Epoch 38/100\n",
            "938/938 [==============================] - 3s 3ms/step - loss: 0.0298 - acc: 0.9903\n",
            "Epoch 39/100\n",
            "938/938 [==============================] - 3s 3ms/step - loss: 0.0278 - acc: 0.9907\n",
            "Epoch 40/100\n",
            "938/938 [==============================] - 3s 3ms/step - loss: 0.0303 - acc: 0.9900\n",
            "Epoch 41/100\n",
            "938/938 [==============================] - 3s 3ms/step - loss: 0.0305 - acc: 0.9895\n",
            "Epoch 42/100\n",
            "938/938 [==============================] - 3s 3ms/step - loss: 0.0274 - acc: 0.9908\n",
            "Epoch 43/100\n",
            "938/938 [==============================] - 3s 3ms/step - loss: 0.0292 - acc: 0.9902\n",
            "Epoch 44/100\n",
            "938/938 [==============================] - 3s 3ms/step - loss: 0.0262 - acc: 0.9911\n",
            "Epoch 45/100\n",
            "938/938 [==============================] - 3s 3ms/step - loss: 0.0290 - acc: 0.9902\n",
            "Epoch 46/100\n",
            "938/938 [==============================] - 3s 3ms/step - loss: 0.0281 - acc: 0.9903\n",
            "Epoch 47/100\n",
            "938/938 [==============================] - 3s 3ms/step - loss: 0.0257 - acc: 0.9911\n",
            "Epoch 48/100\n",
            "938/938 [==============================] - 3s 3ms/step - loss: 0.0280 - acc: 0.9905\n",
            "Epoch 49/100\n",
            "938/938 [==============================] - 3s 3ms/step - loss: 0.0261 - acc: 0.9909\n",
            "Epoch 50/100\n",
            "938/938 [==============================] - 3s 3ms/step - loss: 0.0245 - acc: 0.9915\n",
            "Epoch 51/100\n",
            "938/938 [==============================] - 3s 3ms/step - loss: 0.0260 - acc: 0.9912\n",
            "Epoch 52/100\n",
            "938/938 [==============================] - 3s 3ms/step - loss: 0.0247 - acc: 0.9915\n",
            "Epoch 53/100\n",
            "938/938 [==============================] - 3s 3ms/step - loss: 0.0268 - acc: 0.9911\n",
            "Epoch 54/100\n",
            "938/938 [==============================] - 3s 3ms/step - loss: 0.0258 - acc: 0.9912\n",
            "Epoch 55/100\n",
            "938/938 [==============================] - 3s 3ms/step - loss: 0.0244 - acc: 0.9915\n",
            "Epoch 56/100\n",
            "938/938 [==============================] - 3s 3ms/step - loss: 0.0234 - acc: 0.9923\n",
            "Epoch 57/100\n",
            "938/938 [==============================] - 3s 3ms/step - loss: 0.0227 - acc: 0.9920\n",
            "Epoch 58/100\n",
            "938/938 [==============================] - 3s 3ms/step - loss: 0.0238 - acc: 0.9918\n",
            "Epoch 59/100\n",
            "938/938 [==============================] - 3s 3ms/step - loss: 0.0242 - acc: 0.9918\n",
            "Epoch 60/100\n",
            "938/938 [==============================] - 3s 3ms/step - loss: 0.0233 - acc: 0.9919\n",
            "Epoch 61/100\n",
            "938/938 [==============================] - 3s 3ms/step - loss: 0.0223 - acc: 0.9923\n",
            "Epoch 62/100\n",
            "938/938 [==============================] - 3s 3ms/step - loss: 0.0230 - acc: 0.9924\n",
            "Epoch 63/100\n",
            "938/938 [==============================] - 3s 3ms/step - loss: 0.0219 - acc: 0.9926\n",
            "Epoch 64/100\n",
            "938/938 [==============================] - 3s 3ms/step - loss: 0.0218 - acc: 0.9925\n",
            "Epoch 65/100\n",
            "938/938 [==============================] - 3s 3ms/step - loss: 0.0237 - acc: 0.9922\n",
            "Epoch 66/100\n",
            "938/938 [==============================] - 3s 3ms/step - loss: 0.0227 - acc: 0.9926\n",
            "Epoch 67/100\n",
            "938/938 [==============================] - 3s 3ms/step - loss: 0.0210 - acc: 0.9927\n",
            "Epoch 68/100\n",
            "938/938 [==============================] - 3s 3ms/step - loss: 0.0232 - acc: 0.9918\n",
            "Epoch 69/100\n",
            "938/938 [==============================] - 3s 3ms/step - loss: 0.0217 - acc: 0.9930\n",
            "Epoch 70/100\n",
            "938/938 [==============================] - 3s 3ms/step - loss: 0.0247 - acc: 0.9920\n",
            "Epoch 71/100\n",
            "938/938 [==============================] - 3s 3ms/step - loss: 0.0211 - acc: 0.9930\n",
            "Epoch 72/100\n",
            "938/938 [==============================] - 3s 3ms/step - loss: 0.0219 - acc: 0.9929\n",
            "Epoch 73/100\n",
            "938/938 [==============================] - 3s 3ms/step - loss: 0.0209 - acc: 0.9929\n",
            "Epoch 74/100\n",
            "938/938 [==============================] - 3s 3ms/step - loss: 0.0210 - acc: 0.9931\n",
            "Epoch 75/100\n",
            "938/938 [==============================] - 3s 3ms/step - loss: 0.0223 - acc: 0.9924\n",
            "Epoch 76/100\n",
            "938/938 [==============================] - 3s 3ms/step - loss: 0.0219 - acc: 0.9931\n",
            "Epoch 77/100\n",
            "938/938 [==============================] - 3s 3ms/step - loss: 0.0196 - acc: 0.9936\n",
            "Epoch 78/100\n",
            "938/938 [==============================] - 3s 3ms/step - loss: 0.0212 - acc: 0.9933\n",
            "Epoch 79/100\n",
            "938/938 [==============================] - 3s 3ms/step - loss: 0.0187 - acc: 0.9932\n",
            "Epoch 80/100\n",
            "938/938 [==============================] - 3s 3ms/step - loss: 0.0207 - acc: 0.9933\n",
            "Epoch 81/100\n",
            "938/938 [==============================] - 3s 3ms/step - loss: 0.0220 - acc: 0.9922\n",
            "Epoch 82/100\n",
            "938/938 [==============================] - 3s 3ms/step - loss: 0.0191 - acc: 0.9938\n",
            "Epoch 83/100\n",
            "938/938 [==============================] - 3s 3ms/step - loss: 0.0192 - acc: 0.9935\n",
            "Epoch 84/100\n",
            "938/938 [==============================] - 3s 3ms/step - loss: 0.0186 - acc: 0.9937\n",
            "Epoch 85/100\n",
            "938/938 [==============================] - 3s 3ms/step - loss: 0.0186 - acc: 0.9935\n",
            "Epoch 86/100\n",
            "938/938 [==============================] - 3s 3ms/step - loss: 0.0194 - acc: 0.9930\n",
            "Epoch 87/100\n",
            "938/938 [==============================] - 3s 3ms/step - loss: 0.0189 - acc: 0.9937\n",
            "Epoch 88/100\n",
            "938/938 [==============================] - 3s 3ms/step - loss: 0.0180 - acc: 0.9941\n",
            "Epoch 89/100\n",
            "938/938 [==============================] - 3s 3ms/step - loss: 0.0201 - acc: 0.9934\n",
            "Epoch 90/100\n",
            "938/938 [==============================] - 3s 3ms/step - loss: 0.0176 - acc: 0.9938\n",
            "Epoch 91/100\n",
            "938/938 [==============================] - 3s 3ms/step - loss: 0.0185 - acc: 0.9940\n",
            "Epoch 92/100\n",
            "938/938 [==============================] - 3s 3ms/step - loss: 0.0196 - acc: 0.9932\n",
            "Epoch 93/100\n",
            "938/938 [==============================] - 3s 3ms/step - loss: 0.0193 - acc: 0.9938\n",
            "Epoch 94/100\n",
            "938/938 [==============================] - 3s 3ms/step - loss: 0.0181 - acc: 0.9941\n",
            "Epoch 95/100\n",
            "938/938 [==============================] - 3s 3ms/step - loss: 0.0176 - acc: 0.9943\n",
            "Epoch 96/100\n",
            "938/938 [==============================] - 3s 3ms/step - loss: 0.0178 - acc: 0.9939\n",
            "Epoch 97/100\n",
            "938/938 [==============================] - 3s 3ms/step - loss: 0.0179 - acc: 0.9939\n",
            "Epoch 98/100\n",
            "938/938 [==============================] - 3s 3ms/step - loss: 0.0190 - acc: 0.9937\n",
            "Epoch 99/100\n",
            "938/938 [==============================] - 3s 3ms/step - loss: 0.0165 - acc: 0.9945\n",
            "Epoch 100/100\n",
            "938/938 [==============================] - 3s 3ms/step - loss: 0.0172 - acc: 0.9945\n"
          ]
        }
      ]
    }
  ]
}